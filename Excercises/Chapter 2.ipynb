{
 "cells": [
  {
   "cell_type": "markdown",
   "metadata": {},
   "source": [
    "# <font color='blue'>Chapter 2 Exercises</font>\n",
    "## <font color='blue'>*Conceptual*</font>\n",
    "### 1. For each of parts (a) through (d), indicate whether we would generally expect the performance of a flexible statistical learning method to be better or worse than an inflexible method. Justify your answer.\n",
    "\n",
    "(a) The sample size n is extremely large, and the number of predictors p is small.\n",
    "\n",
    "A more flexible method is better here because a large sample size suggests there would be little variance from a different training data set. The more flexible method would fit the data more closely and probably not overfit because of the large sample size.    \n",
    "\n",
    "(b) The number of predictors p is extremely large, and the number\n",
    "of observations n is small.\n",
    "\n",
    "A inflexible method is better for this example because a more flexible method would overfit due to the small number of observations. The variance from a different training data set would likely be large.\n",
    "\n",
    "(c) The relationship between the predictors and response is highly\n",
    "non-linear.\n",
    "\n",
    "A more flexible method is preferred because a sophisticated model is requried to fit the non-linearities.\n",
    "\n",
    "(d) The variance of the error terms, i.e. σ2 = Var(), is extremely\n",
    "high.\n",
    "\n",
    "A less flexible method is preferred here because a flexible method would change significantly from one training data set to another when an inflexible method would stay more consistent."
   ]
  },
  {
   "cell_type": "markdown",
   "metadata": {},
   "source": [
    "### 2. Explain whether each scenario is a classification or regression problem, and indicate whether we are most interested in inference or prediction. Finally, provide n and p.\n",
    "\n",
    "(a) We collect a set of data on the top 500 firms in the US. For each\n",
    "firm we record profit, number of employees, industry and the\n",
    "CEO salary. We are interested in understanding which factors\n",
    "affect CEO salary.\n",
    "\n",
    "This is a regression problem because the observation, CEO salary, is quantitative. We are most interseted in inference because we seek to understand the relationship between the predictors and CEO salary. Predicting CEO salary is not of interest. n is 500 and p is 3. \n",
    "\n",
    "(b) We are considering launching a new product and wish to know\n",
    "whether it will be a *success* or a *failure*. We collect data on 20\n",
    "similar products that were previously launched. For each product we have recorded whether it was a success or failure, price\n",
    "charged for the product, marketing budget, competition price,\n",
    "and ten other variables.\n",
    "\n",
    "This is a classification problem because the goal is to classify weither a new product will be a success or failure. We are most interested in predicting the success of a new product. n is 20 and p is 13.\n",
    "\n",
    "\n",
    "\n",
    "    "
   ]
  },
  {
   "cell_type": "code",
   "execution_count": null,
   "metadata": {},
   "outputs": [],
   "source": []
  }
 ],
 "metadata": {
  "kernelspec": {
   "display_name": "R",
   "language": "R",
   "name": "ir"
  },
  "language_info": {
   "codemirror_mode": "r",
   "file_extension": ".r",
   "mimetype": "text/x-r-source",
   "name": "R",
   "pygments_lexer": "r",
   "version": "3.5.2"
  }
 },
 "nbformat": 4,
 "nbformat_minor": 2
}
